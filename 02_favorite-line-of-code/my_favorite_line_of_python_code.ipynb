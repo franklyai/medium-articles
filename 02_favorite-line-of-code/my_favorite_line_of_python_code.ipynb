{
 "metadata": {
  "language_info": {
   "codemirror_mode": {
    "name": "ipython",
    "version": 3
   },
   "file_extension": ".py",
   "mimetype": "text/x-python",
   "name": "python",
   "nbconvert_exporter": "python",
   "pygments_lexer": "ipython3",
   "version": "3.7.9-final"
  },
  "orig_nbformat": 2,
  "kernelspec": {
   "name": "python3",
   "display_name": "Python 3",
   "language": "python"
  }
 },
 "nbformat": 4,
 "nbformat_minor": 2,
 "cells": [
  {
   "cell_type": "code",
   "execution_count": 26,
   "metadata": {},
   "outputs": [
    {
     "output_type": "stream",
     "name": "stdout",
     "text": [
      "       x-var    make        day\n0 -14.452810     bmw       thur\n1 -15.384004  Toyota  wednesday\n2  -9.167911     bmw    thurday\n3   6.759264  Toyota        wed\n4 -26.004919  Toyota  wednesday\n5  25.673620  Toyota        wed\n6 -25.164967     bmw  wednesday\n7 -74.405515   tesla    thurday\n"
     ]
    }
   ],
   "source": [
    "import pandas as pd \n",
    "\n",
    "my_data_df = pd.read_csv('./data/01_data.csv')\n",
    "print(my_data_df)"
   ]
  },
  {
   "cell_type": "code",
   "execution_count": 15,
   "metadata": {},
   "outputs": [
    {
     "output_type": "stream",
     "name": "stdout",
     "text": [
      "       x-var    make        day\n0 -14.452810     BMW       thur\n1 -15.384004  Toyota  wednesday\n2  -9.167911     BMW    thurday\n3   6.759264  Toyota        wed\n4 -26.004919  Toyota  wednesday\n5  25.673620  Toyota        wed\n6 -25.164967     BMW  wednesday\n7 -74.405515   Tesla    thurday\n"
     ]
    }
   ],
   "source": [
    "my_data_df['make'] = my_data_df['make'].apply(lambda x: x.title() if x != 'bmw' else x.upper())\n",
    "\n",
    "print(my_data_df)"
   ]
  },
  {
   "cell_type": "code",
   "execution_count": 16,
   "metadata": {},
   "outputs": [
    {
     "output_type": "stream",
     "name": "stdout",
     "text": [
      "0         Thur\n1    Wednesday\n2      Thurday\n3    Wednesday\n4    Wednesday\n5    Wednesday\n6    Wednesday\n7      Thurday\nName: day, dtype: object\n"
     ]
    }
   ],
   "source": [
    "my_data_df['day'] = my_data_df['day'].apply(lambda x: 'Wednesday' if x == 'wed' else x.title())\n",
    "print(my_data_df['day'])"
   ]
  },
  {
   "cell_type": "code",
   "execution_count": 27,
   "metadata": {},
   "outputs": [
    {
     "output_type": "stream",
     "name": "stdout",
     "text": [
      "0     Thursday\n1    Wednesday\n2     Thursday\n3    Wednesday\n4    Wednesday\n5    Wednesday\n6    Wednesday\n7     Thursday\nName: day, dtype: object\n"
     ]
    }
   ],
   "source": [
    "def correct_word(x, wrong_word, right_word):\n",
    "    x = x.title()\n",
    "    if x == wrong_word:\n",
    "        return right_word\n",
    "    else:\n",
    "        return x\n",
    "\n",
    "my_data_df['day'] = my_data_df['day'].apply(lambda x: correct_word(x, 'Wed', 'Wednesday'))\n",
    "my_data_df['day'] = my_data_df['day'].apply(lambda x: correct_word(x, 'Thur', 'Thursday'))\n",
    "my_data_df['day'] = my_data_df['day'].apply(lambda x: correct_word(x, 'Thurday', 'Thursday'))\n",
    "\n",
    "print(my_data_df['day'])"
   ]
  },
  {
   "cell_type": "code",
   "execution_count": 22,
   "metadata": {},
   "outputs": [
    {
     "output_type": "stream",
     "name": "stdout",
     "text": [
      "0     Thursday\n1    Wednesday\n2     Thursday\n3    Wednesday\n4    Wednesday\n5    Wednesday\n6    Wednesday\n7     Thursday\nName: day, dtype: object\n"
     ]
    }
   ],
   "source": []
  },
  {
   "cell_type": "code",
   "execution_count": null,
   "metadata": {},
   "outputs": [],
   "source": []
  }
 ]
}