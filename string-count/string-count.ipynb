{
 "metadata": {
  "language_info": {
   "codemirror_mode": {
    "name": "ipython",
    "version": 3
   },
   "file_extension": ".py",
   "mimetype": "text/x-python",
   "name": "python",
   "nbconvert_exporter": "python",
   "pygments_lexer": "ipython3",
   "version": "3.7.9"
  },
  "orig_nbformat": 2,
  "kernelspec": {
   "name": "python379jvsc74a57bd0b3ba2566441a7c06988d0923437866b63cedc61552a5af99d1f4fb67d367b25f",
   "display_name": "Python 3.7.9 64-bit ('base': conda)"
  }
 },
 "nbformat": 4,
 "nbformat_minor": 2,
 "cells": [
  {
   "cell_type": "code",
   "execution_count": 1,
   "metadata": {},
   "outputs": [],
   "source": [
    "the_log = \"\"\"\n",
    "03/22 08:51:01 INFO   :.main: *************** RSVP Agent started ***************\n",
    "03/22 08:51:01 INFO   :...locate_configFile: Specified configuration file: /u/user10/rsvpd1.conf\n",
    "03/22 08:51:01 INFO   :.main: Using log level 511\n",
    "03/22 08:51:01 INFO   :..settcpimage: Get TCP images rc - EDC8112I Operation not supported on socket.\n",
    "03/22 08:51:02 INFO   :..reg_process: return from registration rc=0\n",
    "03/22 08:51:06 TRACE  :...read_physical_netif: Home list entries returned = 7\n",
    "03/22 08:51:06 INFO   :...read_physical_netif: index #0, interface VLINK1 has address 129.1.1.1, ifidx 0\n",
    "03/22 08:51:06 INFO   :...read_physical_netif: index #1, interface TR1 has address 9.37.65.139, ifidx 1\n",
    "03/22 08:51:06 INFO   :...read_physical_netif: index #2, interface LINK11 has address 9.67.100.1, ifidx 2\n",
    "03/22 08:51:06 INFO   :...read_physical_netif: index #3, interface LINK12 has address 9.67.101.1, ifidx 3\n",
    "03/22 08:51:06 INFO   :....mailslot_create: creating mailslot for timer\n",
    "03/22 08:51:06 INFO   :...mailbox_register: mailbox allocated for timer\n",
    "03/22 08:51:06 INFO   :.....mailslot_create: creating mailslot for RSVP\n",
    "03/23 08:51:06 INFO   :....mailbox_register: mailbox allocated for rsvp\n",
    "03/23 08:51:06 INFO   :.....mailslot_create: creating mailslot for RSVP via UDP\n",
    "03/23 08:51:06 WARNING:.....mailslot_create: setsockopt(MCAST_ADD) failed - EDC8116I Address not available.\n",
    "03/23 08:51:06 INFO   :....mailbox_register: mailbox allocated for rsvp-udp\n",
    "03/23 08:51:06 TRACE  :..entity_initialize: interface 129.1.1.1, entity for rsvp allocated and initialized\n",
    "03/23 08:51:06 INFO   :.....mailslot_create: creating mailslot for RSVP\n",
    "03/23 08:51:06 INFO   :....mailbox_register: mailbox allocated for rsvp\n",
    "03/23 08:51:06 INFO   :.....mailslot_create: creating mailslot for RSVP via UDP\n",
    "03/23 08:51:06 WARNING:.....mailslot_create: setsockopt(MCAST_ADD) failed - EDC8116I Address not available.\n",
    "03/23 08:51:06 INFO   :....mailbox_register: mailbox allocated for rsvp-udp\n",
    "03/23 08:51:06 TRACE  :..entity_initialize: interface 9.37.65.139, entity for rsvp allocated and \n",
    "\"\"\""
   ]
  },
  {
   "cell_type": "code",
   "execution_count": 8,
   "metadata": {},
   "outputs": [
    {
     "output_type": "stream",
     "name": "stdout",
     "text": [
      "Number of 3/22 entries:  13\nNumber of 3/23 entries:  11\n======================================\nNumber of INFO entires:  19\nNumber of WARNING entires:  2\nNumber of TRACE entires:  3\n======================================\nNumber of mailslot_create entires:  7\nNumber of mailbox_register entires:  5\n"
     ]
    }
   ],
   "source": [
    "print('Number of 3/22 entries: ', the_log.count('3/22'))\n",
    "print('Number of 3/23 entries: ', the_log.count('3/23'))\n",
    "print('='*38)\n",
    "print('Number of INFO entires: ', the_log.count('INFO'))\n",
    "print('Number of WARNING entires: ', the_log.count('WARNING'))\n",
    "print('Number of TRACE entires: ', the_log.count('TRACE'))\n",
    "print('='*38)\n",
    "print('Number of mailslot_create entires: ', the_log.count('mailslot_create'))\n",
    "print('Number of mailbox_register entires: ', the_log.count('mailbox_register'))"
   ]
  },
  {
   "cell_type": "code",
   "execution_count": 9,
   "metadata": {},
   "outputs": [],
   "source": [
    "the_string = \"\"\"\n",
    "There is a lot \"repetitive bad stuff\" throughout this string. By having \"repetitive bad stuff\", I can demonstrate\n",
    "how to count repetitive bad stuff using the count() function.\n",
    "\"\"\""
   ]
  },
  {
   "cell_type": "code",
   "execution_count": 10,
   "metadata": {},
   "outputs": [
    {
     "output_type": "stream",
     "name": "stdout",
     "text": [
      "Number of \"repetitive bad stuff\": 2\n"
     ]
    }
   ],
   "source": [
    "print('Number of \\\"repetitive bad stuff\\\":', the_string.count('\"repetitive bad stuff\"'))"
   ]
  },
  {
   "cell_type": "code",
   "execution_count": null,
   "metadata": {},
   "outputs": [],
   "source": []
  }
 ]
}