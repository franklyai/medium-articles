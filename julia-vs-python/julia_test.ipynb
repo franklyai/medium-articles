{
 "cells": [
  {
   "cell_type": "code",
   "execution_count": 25,
   "source": [
    "cd(\"C:/Users/neugg/OneDrive/Documents/Frankly AI/GitHub/medium-articles/julia-vs-python/\")"
   ],
   "outputs": [],
   "metadata": {}
  },
  {
   "cell_type": "code",
   "execution_count": 26,
   "source": [
    "#=\r\n",
    "# Import Packages\r\n",
    "using Pkg  # Package to install new packages\r\n",
    "\r\n",
    "# Install packages \r\n",
    "Pkg.add(\"DataFrames\")\r\n",
    "Pkg.add(\"CSV\")\r\n",
    "Pkg.add(\"Lathe\")\r\n",
    "Pkg.add(\"GLM\")\r\n",
    "=#\r\n",
    "\r\n",
    "# Load the installed packages\r\n",
    "using DataFrames\r\n",
    "using CSV\r\n",
    "using Lathe\r\n",
    "using Lathe.preprocess: TrainTestSplit\r\n",
    "using GLM"
   ],
   "outputs": [],
   "metadata": {}
  },
  {
   "cell_type": "code",
   "execution_count": 27,
   "source": [
    "insurance_df = DataFrame(CSV.File(\"data/insurance.csv\"))\r\n",
    "describe(insurance_df)"
   ],
   "outputs": [
    {
     "data": {
      "text/latex": [
       "\\begin{tabular}{r|ccccccc}\n",
       "\t& variable & mean & min & median & max & nmissing & eltype\\\\\n",
       "\t\\hline\n",
       "\t& Symbol & Union… & Any & Union… & Any & Int64 & DataType\\\\\n",
       "\t\\hline\n",
       "\t1 & age & 39.207 & 18 & 39.0 & 64 & 0 & Int64 \\\\\n",
       "\t2 & sex &  & female &  & male & 0 & String \\\\\n",
       "\t3 & bmi & 30.6634 & 15.96 & 30.4 & 53.13 & 0 & Float64 \\\\\n",
       "\t4 & children & 1.09492 & 0 & 1.0 & 5 & 0 & Int64 \\\\\n",
       "\t5 & smoker &  & no &  & yes & 0 & String \\\\\n",
       "\t6 & region &  & northeast &  & southwest & 0 & String \\\\\n",
       "\t7 & charges & 13270.4 & 1121.87 & 9382.03 & 63770.4 & 0 & Float64 \\\\\n",
       "\\end{tabular}\n"
      ],
      "text/html": [
       "<table class=\"data-frame\"><thead><tr><th></th><th>variable</th><th>mean</th><th>min</th><th>median</th><th>max</th><th>nmissing</th><th>eltype</th></tr><tr><th></th><th>Symbol</th><th>Union…</th><th>Any</th><th>Union…</th><th>Any</th><th>Int64</th><th>DataType</th></tr></thead><tbody><p>7 rows × 7 columns</p><tr><th>1</th><td>age</td><td>39.207</td><td>18</td><td>39.0</td><td>64</td><td>0</td><td>Int64</td></tr><tr><th>2</th><td>sex</td><td></td><td>female</td><td></td><td>male</td><td>0</td><td>String</td></tr><tr><th>3</th><td>bmi</td><td>30.6634</td><td>15.96</td><td>30.4</td><td>53.13</td><td>0</td><td>Float64</td></tr><tr><th>4</th><td>children</td><td>1.09492</td><td>0</td><td>1.0</td><td>5</td><td>0</td><td>Int64</td></tr><tr><th>5</th><td>smoker</td><td></td><td>no</td><td></td><td>yes</td><td>0</td><td>String</td></tr><tr><th>6</th><td>region</td><td></td><td>northeast</td><td></td><td>southwest</td><td>0</td><td>String</td></tr><tr><th>7</th><td>charges</td><td>13270.4</td><td>1121.87</td><td>9382.03</td><td>63770.4</td><td>0</td><td>Float64</td></tr></tbody></table>"
      ],
      "text/plain": [
       "\u001b[1m7×7 DataFrame\u001b[0m\n",
       "\u001b[1m Row \u001b[0m│\u001b[1m variable \u001b[0m\u001b[1m mean    \u001b[0m\u001b[1m min       \u001b[0m\u001b[1m median  \u001b[0m\u001b[1m max       \u001b[0m\u001b[1m nmissing \u001b[0m\u001b[1m eltype   \u001b[0m\n",
       "\u001b[1m     \u001b[0m│\u001b[90m Symbol   \u001b[0m\u001b[90m Union…  \u001b[0m\u001b[90m Any       \u001b[0m\u001b[90m Union…  \u001b[0m\u001b[90m Any       \u001b[0m\u001b[90m Int64    \u001b[0m\u001b[90m DataType \u001b[0m\n",
       "─────┼──────────────────────────────────────────────────────────────────────\n",
       "   1 │ age       39.207   18         39.0     64                0  Int64\n",
       "   2 │ sex      \u001b[90m         \u001b[0m female    \u001b[90m         \u001b[0m male              0  String\n",
       "   3 │ bmi       30.6634  15.96      30.4     53.13             0  Float64\n",
       "   4 │ children  1.09492  0          1.0      5                 0  Int64\n",
       "   5 │ smoker   \u001b[90m         \u001b[0m no        \u001b[90m         \u001b[0m yes               0  String\n",
       "   6 │ region   \u001b[90m         \u001b[0m northeast \u001b[90m         \u001b[0m southwest         0  String\n",
       "   7 │ charges   13270.4  1121.87    9382.03  63770.4           0  Float64"
      ]
     },
     "metadata": {},
     "output_type": "display_data"
    }
   ],
   "metadata": {}
  },
  {
   "cell_type": "code",
   "execution_count": 28,
   "source": [
    "println(first(insurance_df,5))"
   ],
   "outputs": [
    {
     "output_type": "stream",
     "name": "stdout",
     "text": [
      "\u001b[1m5×7 DataFrame\u001b[0m\n",
      "\u001b[1m Row \u001b[0m│\u001b[1m age   \u001b[0m\u001b[1m sex    \u001b[0m\u001b[1m bmi     \u001b[0m\u001b[1m children \u001b[0m\u001b[1m smoker \u001b[0m\u001b[1m region    \u001b[0m\u001b[1m charges  \u001b[0m\n",
      "\u001b[1m     \u001b[0m│\u001b[90m Int64 \u001b[0m\u001b[90m String \u001b[0m\u001b[90m Float64 \u001b[0m\u001b[90m Int64    \u001b[0m\u001b[90m String \u001b[0m\u001b[90m String    \u001b[0m\u001b[90m Float64  \u001b[0m\n",
      "─────┼───────────────────────────────────────────────────────────────\n",
      "   1 │    19  female   27.9           0  yes     southwest  16884.9\n",
      "   2 │    18  male     33.77          1  no      southeast   1725.55\n",
      "   3 │    28  male     33.0           3  no      southeast   4449.46\n",
      "   4 │    33  male     22.705         0  no      northwest  21984.5\n",
      "   5 │    32  male     28.88          0  no      northwest   3866.86\n"
     ]
    }
   ],
   "metadata": {}
  },
  {
   "cell_type": "code",
   "execution_count": 29,
   "source": [
    "println(\"The shape of the dataset is:\", size(insurance_df))\r\n",
    "describe(insurance_df)"
   ],
   "outputs": [
    {
     "output_type": "stream",
     "name": "stdout",
     "text": [
      "The shape of the dataset is:(1338, 7)\n"
     ]
    },
    {
     "data": {
      "text/latex": [
       "\\begin{tabular}{r|ccccccc}\n",
       "\t& variable & mean & min & median & max & nmissing & eltype\\\\\n",
       "\t\\hline\n",
       "\t& Symbol & Union… & Any & Union… & Any & Int64 & DataType\\\\\n",
       "\t\\hline\n",
       "\t1 & age & 39.207 & 18 & 39.0 & 64 & 0 & Int64 \\\\\n",
       "\t2 & sex &  & female &  & male & 0 & String \\\\\n",
       "\t3 & bmi & 30.6634 & 15.96 & 30.4 & 53.13 & 0 & Float64 \\\\\n",
       "\t4 & children & 1.09492 & 0 & 1.0 & 5 & 0 & Int64 \\\\\n",
       "\t5 & smoker &  & no &  & yes & 0 & String \\\\\n",
       "\t6 & region &  & northeast &  & southwest & 0 & String \\\\\n",
       "\t7 & charges & 13270.4 & 1121.87 & 9382.03 & 63770.4 & 0 & Float64 \\\\\n",
       "\\end{tabular}\n"
      ],
      "text/html": [
       "<table class=\"data-frame\"><thead><tr><th></th><th>variable</th><th>mean</th><th>min</th><th>median</th><th>max</th><th>nmissing</th><th>eltype</th></tr><tr><th></th><th>Symbol</th><th>Union…</th><th>Any</th><th>Union…</th><th>Any</th><th>Int64</th><th>DataType</th></tr></thead><tbody><p>7 rows × 7 columns</p><tr><th>1</th><td>age</td><td>39.207</td><td>18</td><td>39.0</td><td>64</td><td>0</td><td>Int64</td></tr><tr><th>2</th><td>sex</td><td></td><td>female</td><td></td><td>male</td><td>0</td><td>String</td></tr><tr><th>3</th><td>bmi</td><td>30.6634</td><td>15.96</td><td>30.4</td><td>53.13</td><td>0</td><td>Float64</td></tr><tr><th>4</th><td>children</td><td>1.09492</td><td>0</td><td>1.0</td><td>5</td><td>0</td><td>Int64</td></tr><tr><th>5</th><td>smoker</td><td></td><td>no</td><td></td><td>yes</td><td>0</td><td>String</td></tr><tr><th>6</th><td>region</td><td></td><td>northeast</td><td></td><td>southwest</td><td>0</td><td>String</td></tr><tr><th>7</th><td>charges</td><td>13270.4</td><td>1121.87</td><td>9382.03</td><td>63770.4</td><td>0</td><td>Float64</td></tr></tbody></table>"
      ],
      "text/plain": [
       "\u001b[1m7×7 DataFrame\u001b[0m\n",
       "\u001b[1m Row \u001b[0m│\u001b[1m variable \u001b[0m\u001b[1m mean    \u001b[0m\u001b[1m min       \u001b[0m\u001b[1m median  \u001b[0m\u001b[1m max       \u001b[0m\u001b[1m nmissing \u001b[0m\u001b[1m eltype   \u001b[0m\n",
       "\u001b[1m     \u001b[0m│\u001b[90m Symbol   \u001b[0m\u001b[90m Union…  \u001b[0m\u001b[90m Any       \u001b[0m\u001b[90m Union…  \u001b[0m\u001b[90m Any       \u001b[0m\u001b[90m Int64    \u001b[0m\u001b[90m DataType \u001b[0m\n",
       "─────┼──────────────────────────────────────────────────────────────────────\n",
       "   1 │ age       39.207   18         39.0     64                0  Int64\n",
       "   2 │ sex      \u001b[90m         \u001b[0m female    \u001b[90m         \u001b[0m male              0  String\n",
       "   3 │ bmi       30.6634  15.96      30.4     53.13             0  Float64\n",
       "   4 │ children  1.09492  0          1.0      5                 0  Int64\n",
       "   5 │ smoker   \u001b[90m         \u001b[0m no        \u001b[90m         \u001b[0m yes               0  String\n",
       "   6 │ region   \u001b[90m         \u001b[0m northeast \u001b[90m         \u001b[0m southwest         0  String\n",
       "   7 │ charges   13270.4  1121.87    9382.03  63770.4           0  Float64"
      ]
     },
     "metadata": {},
     "output_type": "display_data"
    }
   ],
   "metadata": {}
  },
  {
   "cell_type": "code",
   "execution_count": 30,
   "source": [
    "# One hot encoding\r\n",
    "lathe_one_hot = Lathe.preprocess.OneHotEncoder()\r\n",
    "scaled_feature = lathe_one_hot.predict(insurance_df, :region)\r\n",
    "select!(insurance_df, Not([:region]))\r\n",
    "println(\"\\nThe encoded dataframe sample:\\n\", first(insurance_df,5))"
   ],
   "outputs": [
    {
     "output_type": "stream",
     "name": "stdout",
     "text": [
      "\n",
      "The encoded dataframe sample:\n",
      "\u001b[1m5×10 DataFrame\u001b[0m\n",
      "\u001b[1m Row \u001b[0m│\u001b[1m age   \u001b[0m\u001b[1m sex    \u001b[0m\u001b[1m bmi     \u001b[0m\u001b[1m children \u001b[0m\u001b[1m smoker \u001b[0m\u001b[1m charges  \u001b[0m\u001b[1m southwest \u001b[0m\u001b[1m southeast \u001b[0m\u001b[1m northwest \u001b[0m\u001b[1m northeast \u001b[0m\n",
      "\u001b[1m     \u001b[0m│\u001b[90m Int64 \u001b[0m\u001b[90m String \u001b[0m\u001b[90m Float64 \u001b[0m\u001b[90m Int64    \u001b[0m\u001b[90m String \u001b[0m\u001b[90m Float64  \u001b[0m\u001b[90m Bool      \u001b[0m\u001b[90m Bool      \u001b[0m\u001b[90m Bool      \u001b[0m\u001b[90m Bool      \u001b[0m\n",
      "─────┼────────────────────────────────────────────────────────────────────────────────────────────────\n",
      "   1 │    19  female   27.9           0  yes     16884.9        true      false      false      false\n",
      "   2 │    18  male     33.77          1  no       1725.55      false       true      false      false\n",
      "   3 │    28  male     33.0           3  no       4449.46      false       true      false      false\n",
      "   4 │    33  male     22.705         0  no      21984.5       false      false       true      false\n",
      "   5 │    32  male     28.88          0  no       3866.86      false      false       true      false\n"
     ]
    }
   ],
   "metadata": {}
  },
  {
   "cell_type": "code",
   "execution_count": 31,
   "source": [
    "train, test = TrainTestSplit(insurance_df,.75)"
   ],
   "outputs": [
    {
     "data": {
      "text/plain": [
       "(\u001b[1m1016×10 DataFrame\u001b[0m\n",
       "\u001b[1m  Row \u001b[0m│\u001b[1m age   \u001b[0m\u001b[1m sex    \u001b[0m\u001b[1m bmi     \u001b[0m\u001b[1m children \u001b[0m\u001b[1m smoker \u001b[0m\u001b[1m charges  \u001b[0m\u001b[1m southwest \u001b[0m\u001b[1m southea\u001b[0m ⋯\n",
       "\u001b[1m      \u001b[0m│\u001b[90m Int64 \u001b[0m\u001b[90m String \u001b[0m\u001b[90m Float64 \u001b[0m\u001b[90m Int64    \u001b[0m\u001b[90m String \u001b[0m\u001b[90m Float64  \u001b[0m\u001b[90m Bool      \u001b[0m\u001b[90m Bool   \u001b[0m ⋯\n",
       "──────┼─────────────────────────────────────────────────────────────────────────\n",
       "    1 │    19  female   27.9           0  yes     16884.9        true      fal ⋯\n",
       "    2 │    18  male     33.77          1  no       1725.55      false       tr\n",
       "    3 │    28  male     33.0           3  no       4449.46      false       tr\n",
       "    4 │    33  male     22.705         0  no      21984.5       false      fal\n",
       "    5 │    32  male     28.88          0  no       3866.86      false      fal ⋯\n",
       "    6 │    31  female   25.74          0  no       3756.62      false       tr\n",
       "    7 │    37  female   27.74          3  no       7281.51      false      fal\n",
       "    8 │    37  male     29.83          2  no       6406.41      false      fal\n",
       "  ⋮   │   ⋮      ⋮        ⋮        ⋮        ⋮        ⋮          ⋮          ⋮   ⋱\n",
       " 1010 │    57  female   25.74          2  no      12629.2       false       tr ⋯\n",
       " 1011 │    52  female   44.7           3  no      11411.7        true      fal\n",
       " 1012 │    50  male     30.97          3  no      10600.5       false      fal\n",
       " 1013 │    18  female   31.92          0  no       2205.98      false      fal\n",
       " 1014 │    18  female   36.85          0  no       1629.83      false       tr ⋯\n",
       " 1015 │    21  female   25.8           0  no       2007.94       true      fal\n",
       " 1016 │    61  female   29.07          0  yes     29141.4       false      fal\n",
       "\u001b[36m                                                 3 columns and 1001 rows omitted\u001b[0m, \u001b[1m322×10 DataFrame\u001b[0m\n",
       "\u001b[1m Row \u001b[0m│\u001b[1m age   \u001b[0m\u001b[1m sex    \u001b[0m\u001b[1m bmi     \u001b[0m\u001b[1m children \u001b[0m\u001b[1m smoker \u001b[0m\u001b[1m charges  \u001b[0m\u001b[1m southwest \u001b[0m\u001b[1m southeas\u001b[0m ⋯\n",
       "\u001b[1m     \u001b[0m│\u001b[90m Int64 \u001b[0m\u001b[90m String \u001b[0m\u001b[90m Float64 \u001b[0m\u001b[90m Int64    \u001b[0m\u001b[90m String \u001b[0m\u001b[90m Float64  \u001b[0m\u001b[90m Bool      \u001b[0m\u001b[90m Bool    \u001b[0m ⋯\n",
       "─────┼──────────────────────────────────────────────────────────────────────────\n",
       "   1 │    46  female   33.44          1  no       8240.59      false       tru ⋯\n",
       "   2 │    62  female   26.29          0  yes     27808.7       false       tru\n",
       "   3 │    56  male     40.3           0  no      10602.4        true      fals\n",
       "   4 │    18  male     34.1           0  no       1137.01      false       tru\n",
       "   5 │    37  male     28.025         2  no       6203.9       false      fals ⋯\n",
       "   6 │    59  female   27.72          3  no      14001.1       false       tru\n",
       "   7 │    55  female   32.775         2  no      12268.6       false      fals\n",
       "   8 │    31  male     36.3           2  yes     38711.0        true      fals\n",
       "  ⋮  │   ⋮      ⋮        ⋮        ⋮        ⋮        ⋮          ⋮          ⋮    ⋱\n",
       " 316 │    45  male     30.36          0  yes     62592.9       false       tru ⋯\n",
       " 317 │    43  male     27.8           0  yes     37829.7        true      fals\n",
       " 318 │    32  male     28.12          4  yes     21472.5       false      fals\n",
       " 319 │    42  male     26.315         1  no       6940.91      false      fals\n",
       " 320 │    51  male     30.03          1  no       9377.9       false       tru ⋯\n",
       " 321 │    52  male     38.6           2  no      10325.2        true      fals\n",
       " 322 │    23  female   33.4           0  no      10795.9        true      fals\n",
       "\u001b[36m                                                  3 columns and 307 rows omitted\u001b[0m)"
      ]
     },
     "metadata": {},
     "output_type": "display_data"
    }
   ],
   "metadata": {}
  },
  {
   "cell_type": "code",
   "execution_count": 32,
   "source": [
    "fm = @formula(charges ~ age + bmi + children + sex + smoker + southwest + southeast + northwest + northeast)\r\n",
    "linear_regressor = lm(fm, train)"
   ],
   "outputs": [
    {
     "data": {
      "text/plain": [
       "StatsModels.TableRegressionModel{LinearModel{GLM.LmResp{Vector{Float64}}, GLM.DensePredChol{Float64, LinearAlgebra.CholeskyPivoted{Float64, Matrix{Float64}}}}, Matrix{Float64}}\n",
       "\n",
       "charges ~ 1 + age + bmi + children + sex + smoker + southwest + southeast + northwest + northeast\n",
       "\n",
       "Coefficients:\n",
       "─────────────────────────────────────────────────────────────────────────────\n",
       "                  Coef.  Std. Error       t  Pr(>|t|)   Lower 95%   Upper 95%\n",
       "─────────────────────────────────────────────────────────────────────────────\n",
       "(Intercept)       0.0      NaN       NaN       NaN        NaN         NaN\n",
       "age             259.866     13.2976   19.54    <1e-71     233.772     285.96\n",
       "bmi             333.345     31.6253   10.54    <1e-23     271.286     395.404\n",
       "children        426.158    156.145     2.73    0.0065     119.752     732.564\n",
       "sex: male      -398.983    373.616    -1.07    0.2858   -1132.14      334.173\n",
       "smoker: yes   23425.3      465.277    50.35    <1e-99   22512.3     24338.3\n",
       "southwest    -12612.8     1131.53    -11.15    <1e-26  -14833.2    -10392.3\n",
       "southeast    -12555.4     1202.84    -10.44    <1e-23  -14915.8    -10195.1\n",
       "northwest    -12477.0     1102.42    -11.32    <1e-27  -14640.3    -10313.7\n",
       "northeast    -11701.5     1102.65    -10.61    <1e-24  -13865.3     -9537.78\n",
       "─────────────────────────────────────────────────────────────────────────────"
      ]
     },
     "metadata": {},
     "output_type": "display_data"
    }
   ],
   "metadata": {}
  },
  {
   "cell_type": "code",
   "execution_count": 33,
   "source": [
    "println(\"\\nR2 for the linear regressor: \", r2(linear_regressor))"
   ],
   "outputs": [
    {
     "output_type": "stream",
     "name": "stdout",
     "text": [
      "\n",
      "R2 for the linear regressor: 0.7514530856688412\n"
     ]
    }
   ],
   "metadata": {}
  },
  {
   "cell_type": "code",
   "execution_count": 34,
   "source": [],
   "outputs": [],
   "metadata": {}
  }
 ],
 "metadata": {
  "orig_nbformat": 4,
  "language_info": {
   "name": "plaintext"
  }
 },
 "nbformat": 4,
 "nbformat_minor": 2
}