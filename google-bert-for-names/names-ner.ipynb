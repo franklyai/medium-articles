{
 "metadata": {
  "language_info": {
   "codemirror_mode": {
    "name": "ipython",
    "version": 3
   },
   "file_extension": ".py",
   "mimetype": "text/x-python",
   "name": "python",
   "nbconvert_exporter": "python",
   "pygments_lexer": "ipython3",
   "version": "3.7.9"
  },
  "orig_nbformat": 4,
  "kernelspec": {
   "name": "python3",
   "display_name": "Python 3.7.9 64-bit ('base': conda)"
  },
  "interpreter": {
   "hash": "b3ba2566441a7c06988d0923437866b63cedc61552a5af99d1f4fb67d367b25f"
  }
 },
 "nbformat": 4,
 "nbformat_minor": 2,
 "cells": [
  {
   "cell_type": "code",
   "execution_count": 1,
   "metadata": {},
   "outputs": [
    {
     "output_type": "stream",
     "name": "stderr",
     "text": [
      "C:\\Users\\neugg\\AppData\\Roaming\\Python\\Python37\\site-packages\\numpy\\_distributor_init.py:32: UserWarning: loaded more than 1 DLL from .libs:\nC:\\Users\\neugg\\AppData\\Roaming\\Python\\Python37\\site-packages\\numpy\\.libs\\libopenblas.PYQHXLVVQ7VESDPUVUADXEVJOBGHJPAY.gfortran-win_amd64.dll\nC:\\Users\\neugg\\AppData\\Roaming\\Python\\Python37\\site-packages\\numpy\\.libs\\libopenblas.WCDJNK7YVMPZQ2ME2ZZHJJRJ3JIKNDB7.gfortran-win_amd64.dll\n  stacklevel=1)\n"
     ]
    }
   ],
   "source": [
    "from transformers import AutoTokenizer, AutoModelForTokenClassification, pipeline"
   ]
  },
  {
   "cell_type": "code",
   "execution_count": 2,
   "metadata": {},
   "outputs": [],
   "source": [
    "bert_tokenizer = AutoTokenizer.from_pretrained('dslim/bert-large-NER')\n",
    "bert_model = AutoModelForTokenClassification.from_pretrained('dslim/bert-large-NER')\n",
    "\n",
    "nlp = pipeline('ner', model=bert_model, tokenizer=bert_tokenizer)"
   ]
  },
  {
   "cell_type": "code",
   "execution_count": 8,
   "metadata": {},
   "outputs": [
    {
     "output_type": "stream",
     "name": "stdout",
     "text": [
      "[{'entity': 'B-PER', 'score': 0.99802744, 'index': 3, 'word': 'Jon', 'start': 9, 'end': 12}, {'entity': 'I-PER', 'score': 0.9969795, 'index': 4, 'word': 'Jones', 'start': 13, 'end': 18}, {'entity': 'B-PER', 'score': 0.99703735, 'index': 5, 'word': 'Jon', 'start': 19, 'end': 22}, {'entity': 'I-PER', 'score': 0.99666214, 'index': 6, 'word': 'Jones', 'start': 23, 'end': 28}, {'entity': 'I-PER', 'score': 0.8733999, 'index': 7, 'word': 'Jr', 'start': 29, 'end': 31}, {'entity': 'B-PER', 'score': 0.9935467, 'index': 9, 'word': 'Jon', 'start': 33, 'end': 36}, {'entity': 'I-PER', 'score': 0.9749524, 'index': 10, 'word': 'Paul', 'start': 37, 'end': 41}, {'entity': 'I-PER', 'score': 0.9960336, 'index': 11, 'word': 'Jones', 'start': 42, 'end': 47}, {'entity': 'B-PER', 'score': 0.9971614, 'index': 12, 'word': 'John', 'start': 48, 'end': 52}, {'entity': 'I-PER', 'score': 0.9858689, 'index': 13, 'word': 'D', 'start': 53, 'end': 54}, {'entity': 'I-PER', 'score': 0.4625939, 'index': 14, 'word': '.', 'start': 54, 'end': 55}, {'entity': 'I-PER', 'score': 0.9968941, 'index': 15, 'word': 'Jones', 'start': 56, 'end': 61}]\n"
     ]
    }
   ],
   "source": [
    "names_string = \"Hi there Jon Jones Jon Jones Jr. Jon Paul Jones John D. Jones\"\n",
    "ner_list = nlp(names_string)\n",
    "print(ner_list)"
   ]
  },
  {
   "cell_type": "code",
   "execution_count": 9,
   "metadata": {},
   "outputs": [
    {
     "output_type": "stream",
     "name": "stdout",
     "text": [
      "[[['Jon', 'Jones']], [['Jon', 'Jones', 'Jr']], [['Jon', 'Paul', 'Jones']], [['John', 'D', '.', 'Jones']]]\n"
     ]
    }
   ],
   "source": [
    "this_name = []\n",
    "all_names_list_tmp = []\n",
    "\n",
    "for ner_dict in ner_list:\n",
    "    if ner_dict['entity'] == 'B-PER':\n",
    "        if len(this_name) == 0:\n",
    "            this_name.append(ner_dict['word'])\n",
    "        else:\n",
    "            all_names_list_tmp.append([this_name])\n",
    "            this_name = []\n",
    "            this_name.append(ner_dict['word'])\n",
    "    elif ner_dict['entity'] == 'I-PER':\n",
    "        this_name.append(ner_dict['word'])\n",
    "\n",
    "all_names_list_tmp.append([this_name])\n",
    "\n",
    "print(all_names_list_tmp)"
   ]
  },
  {
   "cell_type": "code",
   "execution_count": 15,
   "metadata": {},
   "outputs": [
    {
     "output_type": "stream",
     "name": "stdout",
     "text": [
      "[{'entity': 'B-PER', 'score': 0.9993052, 'index': 1, 'word': 'Frank', 'start': 0, 'end': 5}, {'entity': 'I-PER', 'score': 0.9993844, 'index': 2, 'word': 'N', 'start': 6, 'end': 7}, {'entity': 'I-PER', 'score': 0.99678946, 'index': 3, 'word': '##eu', 'start': 7, 'end': 9}, {'entity': 'I-PER', 'score': 0.9744214, 'index': 4, 'word': '##ge', 'start': 9, 'end': 11}, {'entity': 'I-PER', 'score': 0.92124516, 'index': 5, 'word': '##ba', 'start': 11, 'end': 13}, {'entity': 'I-PER', 'score': 0.82978016, 'index': 6, 'word': '##uer', 'start': 13, 'end': 16}]\n"
     ]
    }
   ],
   "source": [
    "names_string = \"Frank Neugebauer\"\n",
    "ner_list = nlp(names_string)\n",
    "print(ner_list)"
   ]
  },
  {
   "cell_type": "code",
   "execution_count": 13,
   "metadata": {},
   "outputs": [
    {
     "output_type": "stream",
     "name": "stdout",
     "text": [
      "[['Jon Jones'], ['Jon Jones Jr'], ['Jon Paul Jones'], ['John D. Jones']]\n"
     ]
    }
   ],
   "source": [
    "final_name_list = []\n",
    "for name_list in all_names_list_tmp:\n",
    "    full_name = ' '.join(name_list[0]).replace(' ##', '').replace(' .', '.')\n",
    "    final_name_list.append([full_name])\n",
    "\n",
    "print(final_name_list)"
   ]
  },
  {
   "cell_type": "code",
   "execution_count": 17,
   "metadata": {},
   "outputs": [
    {
     "output_type": "stream",
     "name": "stdout",
     "text": [
      "       0\n0  hello\n1     25\n2    5.0\n3  23.32\n"
     ]
    }
   ],
   "source": [
    "import pandas as pd \n",
    "the_list = ['hello', 25, '5.0', 23.32]\n",
    "df = pd.DataFrame(the_list)\n",
    "print(df)"
   ]
  },
  {
   "cell_type": "code",
   "execution_count": null,
   "metadata": {},
   "outputs": [],
   "source": []
  }
 ]
}