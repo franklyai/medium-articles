{
 "metadata": {
  "language_info": {
   "codemirror_mode": {
    "name": "ipython",
    "version": 3
   },
   "file_extension": ".py",
   "mimetype": "text/x-python",
   "name": "python",
   "nbconvert_exporter": "python",
   "pygments_lexer": "ipython3",
   "version": "3.7.9"
  },
  "orig_nbformat": 2,
  "kernelspec": {
   "name": "python379jvsc74a57bd0b3ba2566441a7c06988d0923437866b63cedc61552a5af99d1f4fb67d367b25f",
   "display_name": "Python 3.7.9 64-bit ('base': conda)"
  }
 },
 "nbformat": 4,
 "nbformat_minor": 2,
 "cells": [
  {
   "cell_type": "code",
   "execution_count": 11,
   "metadata": {},
   "outputs": [],
   "source": [
    "import spacy\n",
    "import reusable as terms\n",
    "from spacy.matcher import Matcher\n",
    "nlp = spacy.load(\"en_core_web_sm\")\n",
    "matcher = Matcher(nlp.vocab)"
   ]
  },
  {
   "cell_type": "code",
   "execution_count": 7,
   "metadata": {},
   "outputs": [
    {
     "output_type": "stream",
     "name": "stdout",
     "text": [
      "PIZZA_RULE loves pizza\n"
     ]
    }
   ],
   "source": [
    "pattern = [{'TEXT': 'loves'}, {'TEXT': 'pizza'}]\n",
    "matcher.add('PIZZA_RULE', [pattern], on_match=None)\n",
    "pattern = [{'TEXT': 'love'}, {'TEXT': 'pizza'}]\n",
    "matcher.add('PIZZA_RULE', [pattern], on_match=None)\n",
    "pattern = [{'TEXT': 'digs'}, {'TEXT': 'pizza'}]\n",
    "matcher.add('PIZZA_RULE', [pattern], on_match=None)\n",
    "pattern = [{'TEXT': 'devours'}, {'TEXT': 'pizza'}]\n",
    "matcher.add('PIZZA_RULE', [pattern], on_match=None)\n",
    "pattern = [{'TEXT': 'eat'}, {'TEXT': 'pizza'}]\n",
    "matcher.add('PIZZA_RULE', [pattern], on_match=None)\n",
    "\n",
    "doc = nlp(\"The world is a great place because pizza. I think everyone loves pizza, except people who don\\'t\")\n",
    "matches = matcher(doc)\n",
    "for match_id, start, end in matches:\n",
    "    string_label = nlp.vocab.strings[match_id] \n",
    "    matched_text = doc[start:end]\n",
    "    print(string_label, matched_text)"
   ]
  },
  {
   "cell_type": "code",
   "execution_count": 12,
   "metadata": {},
   "outputs": [
    {
     "output_type": "stream",
     "name": "stdout",
     "text": [
      "PIZZA_RULE loves pizza\n"
     ]
    }
   ],
   "source": [
    "new_matcher = Matcher(nlp.vocab)\n",
    "pattern = [{'TEXT': {'IN': ['loves', 'love', 'digs', 'devours', 'eat']}}, {'TEXT': 'pizza'}]\n",
    "new_matcher.add('PIZZA_RULE', [pattern])\n",
    "\n",
    "doc = nlp(\"The world is a great place because pizza. I think everyone loves pizza, except people who don\\'t\")\n",
    "matches = new_matcher(doc)\n",
    "for match_id, start, end in matches:\n",
    "    string_label = nlp.vocab.strings[match_id] \n",
    "    matched_text = doc[start:end]\n",
    "    print(string_label, matched_text)"
   ]
  },
  {
   "cell_type": "code",
   "execution_count": 8,
   "metadata": {},
   "outputs": [
    {
     "output_type": "error",
     "ename": "AttributeError",
     "evalue": "module 'reusable' has no attribute 'order_prefixes'",
     "traceback": [
      "\u001b[1;31m---------------------------------------------------------------------------\u001b[0m",
      "\u001b[1;31mAttributeError\u001b[0m                            Traceback (most recent call last)",
      "\u001b[1;32m<ipython-input-8-cdcf96baf0f9>\u001b[0m in \u001b[0;36m<module>\u001b[1;34m\u001b[0m\n\u001b[0;32m      1\u001b[0m \u001b[0mnew_matcher\u001b[0m \u001b[1;33m=\u001b[0m \u001b[0mMatcher\u001b[0m\u001b[1;33m(\u001b[0m\u001b[0mnlp\u001b[0m\u001b[1;33m.\u001b[0m\u001b[0mvocab\u001b[0m\u001b[1;33m)\u001b[0m\u001b[1;33m\u001b[0m\u001b[1;33m\u001b[0m\u001b[0m\n\u001b[1;32m----> 2\u001b[1;33m \u001b[0mpattern\u001b[0m \u001b[1;33m=\u001b[0m \u001b[1;33m[\u001b[0m\u001b[1;33m{\u001b[0m\u001b[1;34m'TEXT'\u001b[0m\u001b[1;33m:\u001b[0m \u001b[1;33m{\u001b[0m\u001b[1;34m'IN'\u001b[0m\u001b[1;33m:\u001b[0m \u001b[0mterms\u001b[0m\u001b[1;33m.\u001b[0m\u001b[0morder_prefixes\u001b[0m\u001b[1;33m}\u001b[0m\u001b[1;33m}\u001b[0m\u001b[1;33m,\u001b[0m \u001b[1;33m{\u001b[0m\u001b[1;34m'TEXT'\u001b[0m\u001b[1;33m:\u001b[0m \u001b[1;34m'from'\u001b[0m\u001b[1;33m}\u001b[0m\u001b[1;33m,\u001b[0m \u001b[1;33m{\u001b[0m\u001b[1;34m'TEXT'\u001b[0m\u001b[1;33m:\u001b[0m \u001b[1;34m'Amazon'\u001b[0m\u001b[1;33m}\u001b[0m\u001b[1;33m]\u001b[0m\u001b[1;33m\u001b[0m\u001b[1;33m\u001b[0m\u001b[0m\n\u001b[0m\u001b[0;32m      3\u001b[0m \u001b[0mnew_matcher\u001b[0m\u001b[1;33m.\u001b[0m\u001b[0madd\u001b[0m\u001b[1;33m(\u001b[0m\u001b[1;34m'ORDER_AMAZON'\u001b[0m\u001b[1;33m,\u001b[0m \u001b[1;33m[\u001b[0m\u001b[0mpattern\u001b[0m\u001b[1;33m]\u001b[0m\u001b[1;33m)\u001b[0m\u001b[1;33m\u001b[0m\u001b[1;33m\u001b[0m\u001b[0m\n\u001b[0;32m      4\u001b[0m \u001b[1;33m\u001b[0m\u001b[0m\n\u001b[0;32m      5\u001b[0m \u001b[0mdoc\u001b[0m \u001b[1;33m=\u001b[0m \u001b[0mnlp\u001b[0m\u001b[1;33m(\u001b[0m\u001b[1;34m\"I love ordering from Amazon. It\\'s like procuring from Amazon is a part of me.'\"\u001b[0m\u001b[1;33m)\u001b[0m\u001b[1;33m\u001b[0m\u001b[1;33m\u001b[0m\u001b[0m\n",
      "\u001b[1;31mAttributeError\u001b[0m: module 'reusable' has no attribute 'order_prefixes'"
     ]
    }
   ],
   "source": [
    "new_matcher = Matcher(nlp.vocab)\n",
    "pattern = [{'TEXT': {'IN': terms.order_prefixes}}, {'TEXT': 'from'}, {'TEXT': 'Amazon'}]\n",
    "new_matcher.add('ORDER_AMAZON', [pattern])\n",
    "\n",
    "doc = nlp(\"I love ordering from Amazon. It\\'s like procuring from Amazon is a part of me.'\")\n",
    "matches = new_matcher(doc)\n",
    "for match_id, start, end in matches:\n",
    "    string_label = nlp.vocab.strings[match_id] \n",
    "    matched_text = doc[start:end]\n",
    "    print(string_label, matched_text)"
   ]
  },
  {
   "cell_type": "code",
   "execution_count": null,
   "metadata": {},
   "outputs": [],
   "source": []
  }
 ]
}